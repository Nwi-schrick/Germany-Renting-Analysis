{
 "cells": [
  {
   "cell_type": "markdown",
   "metadata": {},
   "source": [
    "## 6.4 Machine Learning "
   ]
  },
  {
   "cell_type": "markdown",
   "metadata": {},
   "source": [
    "### This script contains the following:\n",
    "\n",
    " 1. Importing libraries and data\n",
    " 2. Data cleaning\n",
    " 3. Data prep for regression analysis\n",
    " 4. Regression analysis"
   ]
  },
  {
   "cell_type": "markdown",
   "metadata": {},
   "source": [
    "### 1. Importing libraries and data"
   ]
  },
  {
   "cell_type": "code",
   "execution_count": 1,
   "metadata": {},
   "outputs": [],
   "source": [
    "import pandas as pd\n",
    "import numpy as np\n",
    "import seaborn as sns\n",
    "import matplotlib\n",
    "import matplotlib.pyplot as plt\n",
    "import os\n",
    "import sklearn\n",
    "from sklearn.model_selection import train_test_split \n",
    "from sklearn.linear_model import LinearRegression\n",
    "from sklearn.metrics import mean_squared_error, r2_score"
   ]
  },
  {
   "cell_type": "code",
   "execution_count": 2,
   "metadata": {},
   "outputs": [],
   "source": [
    "# This option ensures that the graphs you create are displayed within the notebook without the need to \"call\" them specifically.\n",
    "\n",
    "%matplotlib inline"
   ]
  },
  {
   "cell_type": "code",
   "execution_count": 3,
   "metadata": {},
   "outputs": [],
   "source": [
    "path = r'C:\\Users\\Jeet\\Desktop\\task6'"
   ]
  },
  {
   "cell_type": "code",
   "execution_count": 4,
   "metadata": {},
   "outputs": [],
   "source": [
    "df = pd.read_pickle(os.path.join(path,'Renting_apartment_data'))"
   ]
  },
  {
   "cell_type": "markdown",
   "metadata": {},
   "source": [
    "### 2. Data cleaning"
   ]
  },
  {
   "cell_type": "code",
   "execution_count": 5,
   "metadata": {
    "scrolled": true
   },
   "outputs": [
    {
     "data": {
      "text/plain": [
       "Index(['State', 'Service_charge', 'Base_rent', 'Total_rent',\n",
       "       'Calculated_total_rent', 'Telekom-Tv Offer', 'Newly_construction',\n",
       "       'Balcony', 'No of Pictures ', 'Price trend', 'Telekom Upload Speed',\n",
       "       'Constructed    Year', 'Scout ID', 'Parking Space', 'Kitchen', 'cellar',\n",
       "       'Living_space_area', 'Pets_allowed', 'Lift', 'Type of Flat',\n",
       "       'Number of Rooms', 'Garden', 'Living Space Range',\n",
       "       'Date of posted Ads'],\n",
       "      dtype='object')"
      ]
     },
     "execution_count": 5,
     "metadata": {},
     "output_type": "execute_result"
    }
   ],
   "source": [
    "df.columns"
   ]
  },
  {
   "cell_type": "code",
   "execution_count": 6,
   "metadata": {
    "scrolled": true
   },
   "outputs": [
    {
     "data": {
      "text/html": [
       "<div>\n",
       "<style scoped>\n",
       "    .dataframe tbody tr th:only-of-type {\n",
       "        vertical-align: middle;\n",
       "    }\n",
       "\n",
       "    .dataframe tbody tr th {\n",
       "        vertical-align: top;\n",
       "    }\n",
       "\n",
       "    .dataframe thead th {\n",
       "        text-align: right;\n",
       "    }\n",
       "</style>\n",
       "<table border=\"1\" class=\"dataframe\">\n",
       "  <thead>\n",
       "    <tr style=\"text-align: right;\">\n",
       "      <th></th>\n",
       "      <th>State</th>\n",
       "      <th>Service_charge</th>\n",
       "      <th>Base_rent</th>\n",
       "      <th>Total_rent</th>\n",
       "      <th>Calculated_total_rent</th>\n",
       "      <th>Telekom-Tv Offer</th>\n",
       "      <th>Newly_construction</th>\n",
       "      <th>Balcony</th>\n",
       "      <th>No of Pictures</th>\n",
       "      <th>Price trend</th>\n",
       "      <th>...</th>\n",
       "      <th>Kitchen</th>\n",
       "      <th>cellar</th>\n",
       "      <th>Living_space_area</th>\n",
       "      <th>Pets_allowed</th>\n",
       "      <th>Lift</th>\n",
       "      <th>Type of Flat</th>\n",
       "      <th>Number of Rooms</th>\n",
       "      <th>Garden</th>\n",
       "      <th>Living Space Range</th>\n",
       "      <th>Date of posted Ads</th>\n",
       "    </tr>\n",
       "  </thead>\n",
       "  <tbody>\n",
       "    <tr>\n",
       "      <th>0</th>\n",
       "      <td>Nordrhein_Westfalen</td>\n",
       "      <td>245.00</td>\n",
       "      <td>595.00</td>\n",
       "      <td>840.00</td>\n",
       "      <td>840.00</td>\n",
       "      <td>ONE_YEAR_FREE</td>\n",
       "      <td>False</td>\n",
       "      <td>False</td>\n",
       "      <td>6</td>\n",
       "      <td>4.62</td>\n",
       "      <td>...</td>\n",
       "      <td>False</td>\n",
       "      <td>True</td>\n",
       "      <td>86.00</td>\n",
       "      <td>NaN</td>\n",
       "      <td>False</td>\n",
       "      <td>ground_floor</td>\n",
       "      <td>4</td>\n",
       "      <td>True</td>\n",
       "      <td>4</td>\n",
       "      <td>May-19</td>\n",
       "    </tr>\n",
       "    <tr>\n",
       "      <th>1</th>\n",
       "      <td>Rheinland_Pfalz</td>\n",
       "      <td>134.00</td>\n",
       "      <td>800.00</td>\n",
       "      <td>NaN</td>\n",
       "      <td>934.00</td>\n",
       "      <td>ONE_YEAR_FREE</td>\n",
       "      <td>False</td>\n",
       "      <td>True</td>\n",
       "      <td>8</td>\n",
       "      <td>3.47</td>\n",
       "      <td>...</td>\n",
       "      <td>False</td>\n",
       "      <td>False</td>\n",
       "      <td>89.00</td>\n",
       "      <td>no</td>\n",
       "      <td>False</td>\n",
       "      <td>ground_floor</td>\n",
       "      <td>3</td>\n",
       "      <td>False</td>\n",
       "      <td>4</td>\n",
       "      <td>May-19</td>\n",
       "    </tr>\n",
       "    <tr>\n",
       "      <th>2</th>\n",
       "      <td>Sachsen</td>\n",
       "      <td>255.00</td>\n",
       "      <td>965.00</td>\n",
       "      <td>1300.00</td>\n",
       "      <td>1220.00</td>\n",
       "      <td>ONE_YEAR_FREE</td>\n",
       "      <td>True</td>\n",
       "      <td>True</td>\n",
       "      <td>8</td>\n",
       "      <td>2.72</td>\n",
       "      <td>...</td>\n",
       "      <td>False</td>\n",
       "      <td>True</td>\n",
       "      <td>83.80</td>\n",
       "      <td>NaN</td>\n",
       "      <td>True</td>\n",
       "      <td>apartment</td>\n",
       "      <td>3</td>\n",
       "      <td>False</td>\n",
       "      <td>4</td>\n",
       "      <td>Oct-19</td>\n",
       "    </tr>\n",
       "    <tr>\n",
       "      <th>3</th>\n",
       "      <td>Sachsen</td>\n",
       "      <td>58.15</td>\n",
       "      <td>343.00</td>\n",
       "      <td>NaN</td>\n",
       "      <td>401.15</td>\n",
       "      <td>ONE_YEAR_FREE</td>\n",
       "      <td>False</td>\n",
       "      <td>True</td>\n",
       "      <td>9</td>\n",
       "      <td>1.53</td>\n",
       "      <td>...</td>\n",
       "      <td>False</td>\n",
       "      <td>False</td>\n",
       "      <td>58.15</td>\n",
       "      <td>NaN</td>\n",
       "      <td>False</td>\n",
       "      <td>other</td>\n",
       "      <td>3</td>\n",
       "      <td>False</td>\n",
       "      <td>2</td>\n",
       "      <td>May-19</td>\n",
       "    </tr>\n",
       "    <tr>\n",
       "      <th>4</th>\n",
       "      <td>Bremen</td>\n",
       "      <td>138.00</td>\n",
       "      <td>765.00</td>\n",
       "      <td>903.00</td>\n",
       "      <td>903.00</td>\n",
       "      <td>NONE</td>\n",
       "      <td>False</td>\n",
       "      <td>True</td>\n",
       "      <td>19</td>\n",
       "      <td>2.46</td>\n",
       "      <td>...</td>\n",
       "      <td>False</td>\n",
       "      <td>False</td>\n",
       "      <td>84.97</td>\n",
       "      <td>NaN</td>\n",
       "      <td>False</td>\n",
       "      <td>apartment</td>\n",
       "      <td>3</td>\n",
       "      <td>False</td>\n",
       "      <td>4</td>\n",
       "      <td>Feb-20</td>\n",
       "    </tr>\n",
       "    <tr>\n",
       "      <th>5</th>\n",
       "      <td>Schleswig_Holstein</td>\n",
       "      <td>142.00</td>\n",
       "      <td>315.20</td>\n",
       "      <td>NaN</td>\n",
       "      <td>457.20</td>\n",
       "      <td>NONE</td>\n",
       "      <td>False</td>\n",
       "      <td>True</td>\n",
       "      <td>5</td>\n",
       "      <td>4.48</td>\n",
       "      <td>...</td>\n",
       "      <td>True</td>\n",
       "      <td>False</td>\n",
       "      <td>53.43</td>\n",
       "      <td>no</td>\n",
       "      <td>False</td>\n",
       "      <td>apartment</td>\n",
       "      <td>2</td>\n",
       "      <td>False</td>\n",
       "      <td>2</td>\n",
       "      <td>Feb-20</td>\n",
       "    </tr>\n",
       "    <tr>\n",
       "      <th>6</th>\n",
       "      <td>Sachsen</td>\n",
       "      <td>70.00</td>\n",
       "      <td>310.00</td>\n",
       "      <td>380.00</td>\n",
       "      <td>380.00</td>\n",
       "      <td>ONE_YEAR_FREE</td>\n",
       "      <td>False</td>\n",
       "      <td>False</td>\n",
       "      <td>9</td>\n",
       "      <td>1.01</td>\n",
       "      <td>...</td>\n",
       "      <td>False</td>\n",
       "      <td>True</td>\n",
       "      <td>62.00</td>\n",
       "      <td>NaN</td>\n",
       "      <td>False</td>\n",
       "      <td>NaN</td>\n",
       "      <td>2</td>\n",
       "      <td>True</td>\n",
       "      <td>3</td>\n",
       "      <td>Feb-20</td>\n",
       "    </tr>\n",
       "    <tr>\n",
       "      <th>7</th>\n",
       "      <td>Bremen</td>\n",
       "      <td>88.00</td>\n",
       "      <td>452.25</td>\n",
       "      <td>584.25</td>\n",
       "      <td>540.25</td>\n",
       "      <td>ONE_YEAR_FREE</td>\n",
       "      <td>False</td>\n",
       "      <td>True</td>\n",
       "      <td>5</td>\n",
       "      <td>1.89</td>\n",
       "      <td>...</td>\n",
       "      <td>False</td>\n",
       "      <td>True</td>\n",
       "      <td>60.30</td>\n",
       "      <td>NaN</td>\n",
       "      <td>False</td>\n",
       "      <td>ground_floor</td>\n",
       "      <td>3</td>\n",
       "      <td>False</td>\n",
       "      <td>2</td>\n",
       "      <td>Feb-20</td>\n",
       "    </tr>\n",
       "    <tr>\n",
       "      <th>8</th>\n",
       "      <td>Baden-Wurttemberg</td>\n",
       "      <td>110.00</td>\n",
       "      <td>580.00</td>\n",
       "      <td>690.00</td>\n",
       "      <td>690.00</td>\n",
       "      <td>ONE_YEAR_FREE</td>\n",
       "      <td>False</td>\n",
       "      <td>False</td>\n",
       "      <td>5</td>\n",
       "      <td>3.77</td>\n",
       "      <td>...</td>\n",
       "      <td>True</td>\n",
       "      <td>True</td>\n",
       "      <td>53.00</td>\n",
       "      <td>no</td>\n",
       "      <td>False</td>\n",
       "      <td>roof_storey</td>\n",
       "      <td>2</td>\n",
       "      <td>False</td>\n",
       "      <td>2</td>\n",
       "      <td>Feb-20</td>\n",
       "    </tr>\n",
       "    <tr>\n",
       "      <th>9</th>\n",
       "      <td>Nordrhein_Westfalen</td>\n",
       "      <td>95.00</td>\n",
       "      <td>300.00</td>\n",
       "      <td>NaN</td>\n",
       "      <td>395.00</td>\n",
       "      <td>ONE_YEAR_FREE</td>\n",
       "      <td>False</td>\n",
       "      <td>False</td>\n",
       "      <td>7</td>\n",
       "      <td>1.92</td>\n",
       "      <td>...</td>\n",
       "      <td>False</td>\n",
       "      <td>True</td>\n",
       "      <td>60.00</td>\n",
       "      <td>negotiable</td>\n",
       "      <td>False</td>\n",
       "      <td>apartment</td>\n",
       "      <td>2</td>\n",
       "      <td>False</td>\n",
       "      <td>2</td>\n",
       "      <td>Oct-19</td>\n",
       "    </tr>\n",
       "    <tr>\n",
       "      <th>10</th>\n",
       "      <td>Sachsen</td>\n",
       "      <td>88.00</td>\n",
       "      <td>219.00</td>\n",
       "      <td>307.00</td>\n",
       "      <td>307.00</td>\n",
       "      <td>ONE_YEAR_FREE</td>\n",
       "      <td>False</td>\n",
       "      <td>True</td>\n",
       "      <td>11</td>\n",
       "      <td>0.21</td>\n",
       "      <td>...</td>\n",
       "      <td>False</td>\n",
       "      <td>True</td>\n",
       "      <td>40.20</td>\n",
       "      <td>NaN</td>\n",
       "      <td>False</td>\n",
       "      <td>apartment</td>\n",
       "      <td>2</td>\n",
       "      <td>False</td>\n",
       "      <td>1</td>\n",
       "      <td>Oct-19</td>\n",
       "    </tr>\n",
       "    <tr>\n",
       "      <th>11</th>\n",
       "      <td>Sachsen</td>\n",
       "      <td>155.00</td>\n",
       "      <td>400.00</td>\n",
       "      <td>555.00</td>\n",
       "      <td>555.00</td>\n",
       "      <td>ONE_YEAR_FREE</td>\n",
       "      <td>False</td>\n",
       "      <td>False</td>\n",
       "      <td>9</td>\n",
       "      <td>0.98</td>\n",
       "      <td>...</td>\n",
       "      <td>False</td>\n",
       "      <td>True</td>\n",
       "      <td>80.00</td>\n",
       "      <td>negotiable</td>\n",
       "      <td>False</td>\n",
       "      <td>NaN</td>\n",
       "      <td>3</td>\n",
       "      <td>True</td>\n",
       "      <td>3</td>\n",
       "      <td>May-19</td>\n",
       "    </tr>\n",
       "    <tr>\n",
       "      <th>12</th>\n",
       "      <td>Rheinland_Pfalz</td>\n",
       "      <td>270.00</td>\n",
       "      <td>650.00</td>\n",
       "      <td>920.00</td>\n",
       "      <td>920.00</td>\n",
       "      <td>NONE</td>\n",
       "      <td>False</td>\n",
       "      <td>False</td>\n",
       "      <td>4</td>\n",
       "      <td>2.77</td>\n",
       "      <td>...</td>\n",
       "      <td>False</td>\n",
       "      <td>False</td>\n",
       "      <td>100.00</td>\n",
       "      <td>no</td>\n",
       "      <td>False</td>\n",
       "      <td>ground_floor</td>\n",
       "      <td>4</td>\n",
       "      <td>True</td>\n",
       "      <td>4</td>\n",
       "      <td>May-19</td>\n",
       "    </tr>\n",
       "    <tr>\n",
       "      <th>13</th>\n",
       "      <td>Nordrhein_Westfalen</td>\n",
       "      <td>200.00</td>\n",
       "      <td>950.00</td>\n",
       "      <td>1150.00</td>\n",
       "      <td>1150.00</td>\n",
       "      <td>ONE_YEAR_FREE</td>\n",
       "      <td>False</td>\n",
       "      <td>False</td>\n",
       "      <td>3</td>\n",
       "      <td>3.45</td>\n",
       "      <td>...</td>\n",
       "      <td>False</td>\n",
       "      <td>False</td>\n",
       "      <td>123.44</td>\n",
       "      <td>NaN</td>\n",
       "      <td>False</td>\n",
       "      <td>apartment</td>\n",
       "      <td>4</td>\n",
       "      <td>False</td>\n",
       "      <td>6</td>\n",
       "      <td>Oct-19</td>\n",
       "    </tr>\n",
       "    <tr>\n",
       "      <th>14</th>\n",
       "      <td>Nordrhein_Westfalen</td>\n",
       "      <td>215.00</td>\n",
       "      <td>972.60</td>\n",
       "      <td>1320.65</td>\n",
       "      <td>1187.60</td>\n",
       "      <td>ONE_YEAR_FREE</td>\n",
       "      <td>True</td>\n",
       "      <td>True</td>\n",
       "      <td>12</td>\n",
       "      <td>3.76</td>\n",
       "      <td>...</td>\n",
       "      <td>False</td>\n",
       "      <td>True</td>\n",
       "      <td>87.00</td>\n",
       "      <td>negotiable</td>\n",
       "      <td>True</td>\n",
       "      <td>ground_floor</td>\n",
       "      <td>3</td>\n",
       "      <td>False</td>\n",
       "      <td>4</td>\n",
       "      <td>May-19</td>\n",
       "    </tr>\n",
       "    <tr>\n",
       "      <th>15</th>\n",
       "      <td>Thuringen</td>\n",
       "      <td>80.00</td>\n",
       "      <td>220.00</td>\n",
       "      <td>300.00</td>\n",
       "      <td>300.00</td>\n",
       "      <td>ONE_YEAR_FREE</td>\n",
       "      <td>False</td>\n",
       "      <td>True</td>\n",
       "      <td>5</td>\n",
       "      <td>1.67</td>\n",
       "      <td>...</td>\n",
       "      <td>False</td>\n",
       "      <td>True</td>\n",
       "      <td>36.63</td>\n",
       "      <td>NaN</td>\n",
       "      <td>False</td>\n",
       "      <td>apartment</td>\n",
       "      <td>1</td>\n",
       "      <td>False</td>\n",
       "      <td>1</td>\n",
       "      <td>Sep-18</td>\n",
       "    </tr>\n",
       "    <tr>\n",
       "      <th>16</th>\n",
       "      <td>Hessen</td>\n",
       "      <td>220.00</td>\n",
       "      <td>750.00</td>\n",
       "      <td>970.00</td>\n",
       "      <td>970.00</td>\n",
       "      <td>ONE_YEAR_FREE</td>\n",
       "      <td>False</td>\n",
       "      <td>True</td>\n",
       "      <td>17</td>\n",
       "      <td>3.85</td>\n",
       "      <td>...</td>\n",
       "      <td>False</td>\n",
       "      <td>True</td>\n",
       "      <td>87.00</td>\n",
       "      <td>negotiable</td>\n",
       "      <td>False</td>\n",
       "      <td>apartment</td>\n",
       "      <td>3</td>\n",
       "      <td>False</td>\n",
       "      <td>4</td>\n",
       "      <td>Oct-19</td>\n",
       "    </tr>\n",
       "    <tr>\n",
       "      <th>17</th>\n",
       "      <td>Sachsen</td>\n",
       "      <td>50.00</td>\n",
       "      <td>200.00</td>\n",
       "      <td>325.00</td>\n",
       "      <td>250.00</td>\n",
       "      <td>ONE_YEAR_FREE</td>\n",
       "      <td>False</td>\n",
       "      <td>False</td>\n",
       "      <td>12</td>\n",
       "      <td>1.96</td>\n",
       "      <td>...</td>\n",
       "      <td>False</td>\n",
       "      <td>False</td>\n",
       "      <td>50.00</td>\n",
       "      <td>NaN</td>\n",
       "      <td>False</td>\n",
       "      <td>roof_storey</td>\n",
       "      <td>2</td>\n",
       "      <td>True</td>\n",
       "      <td>2</td>\n",
       "      <td>Sep-18</td>\n",
       "    </tr>\n",
       "    <tr>\n",
       "      <th>18</th>\n",
       "      <td>Nordrhein_Westfalen</td>\n",
       "      <td>121.00</td>\n",
       "      <td>329.00</td>\n",
       "      <td>NaN</td>\n",
       "      <td>450.00</td>\n",
       "      <td>ONE_YEAR_FREE</td>\n",
       "      <td>False</td>\n",
       "      <td>True</td>\n",
       "      <td>5</td>\n",
       "      <td>3.12</td>\n",
       "      <td>...</td>\n",
       "      <td>False</td>\n",
       "      <td>True</td>\n",
       "      <td>65.00</td>\n",
       "      <td>negotiable</td>\n",
       "      <td>False</td>\n",
       "      <td>apartment</td>\n",
       "      <td>2</td>\n",
       "      <td>False</td>\n",
       "      <td>3</td>\n",
       "      <td>May-19</td>\n",
       "    </tr>\n",
       "    <tr>\n",
       "      <th>19</th>\n",
       "      <td>Niedersachsen</td>\n",
       "      <td>290.00</td>\n",
       "      <td>1343.48</td>\n",
       "      <td>1878.48</td>\n",
       "      <td>1633.48</td>\n",
       "      <td>ONE_YEAR_FREE</td>\n",
       "      <td>False</td>\n",
       "      <td>True</td>\n",
       "      <td>35</td>\n",
       "      <td>2.35</td>\n",
       "      <td>...</td>\n",
       "      <td>False</td>\n",
       "      <td>True</td>\n",
       "      <td>127.95</td>\n",
       "      <td>negotiable</td>\n",
       "      <td>True</td>\n",
       "      <td>apartment</td>\n",
       "      <td>5</td>\n",
       "      <td>False</td>\n",
       "      <td>6</td>\n",
       "      <td>Oct-19</td>\n",
       "    </tr>\n",
       "  </tbody>\n",
       "</table>\n",
       "<p>20 rows × 24 columns</p>\n",
       "</div>"
      ],
      "text/plain": [
       "                  State  Service_charge  Base_rent  Total_rent  \\\n",
       "0   Nordrhein_Westfalen          245.00     595.00      840.00   \n",
       "1       Rheinland_Pfalz          134.00     800.00         NaN   \n",
       "2               Sachsen          255.00     965.00     1300.00   \n",
       "3               Sachsen           58.15     343.00         NaN   \n",
       "4                Bremen          138.00     765.00      903.00   \n",
       "5    Schleswig_Holstein          142.00     315.20         NaN   \n",
       "6               Sachsen           70.00     310.00      380.00   \n",
       "7                Bremen           88.00     452.25      584.25   \n",
       "8     Baden-Wurttemberg          110.00     580.00      690.00   \n",
       "9   Nordrhein_Westfalen           95.00     300.00         NaN   \n",
       "10              Sachsen           88.00     219.00      307.00   \n",
       "11              Sachsen          155.00     400.00      555.00   \n",
       "12      Rheinland_Pfalz          270.00     650.00      920.00   \n",
       "13  Nordrhein_Westfalen          200.00     950.00     1150.00   \n",
       "14  Nordrhein_Westfalen          215.00     972.60     1320.65   \n",
       "15            Thuringen           80.00     220.00      300.00   \n",
       "16               Hessen          220.00     750.00      970.00   \n",
       "17              Sachsen           50.00     200.00      325.00   \n",
       "18  Nordrhein_Westfalen          121.00     329.00         NaN   \n",
       "19        Niedersachsen          290.00    1343.48     1878.48   \n",
       "\n",
       "    Calculated_total_rent Telekom-Tv Offer  Newly_construction  Balcony  \\\n",
       "0                  840.00    ONE_YEAR_FREE               False    False   \n",
       "1                  934.00    ONE_YEAR_FREE               False     True   \n",
       "2                 1220.00    ONE_YEAR_FREE                True     True   \n",
       "3                  401.15    ONE_YEAR_FREE               False     True   \n",
       "4                  903.00             NONE               False     True   \n",
       "5                  457.20             NONE               False     True   \n",
       "6                  380.00    ONE_YEAR_FREE               False    False   \n",
       "7                  540.25    ONE_YEAR_FREE               False     True   \n",
       "8                  690.00    ONE_YEAR_FREE               False    False   \n",
       "9                  395.00    ONE_YEAR_FREE               False    False   \n",
       "10                 307.00    ONE_YEAR_FREE               False     True   \n",
       "11                 555.00    ONE_YEAR_FREE               False    False   \n",
       "12                 920.00             NONE               False    False   \n",
       "13                1150.00    ONE_YEAR_FREE               False    False   \n",
       "14                1187.60    ONE_YEAR_FREE                True     True   \n",
       "15                 300.00    ONE_YEAR_FREE               False     True   \n",
       "16                 970.00    ONE_YEAR_FREE               False     True   \n",
       "17                 250.00    ONE_YEAR_FREE               False    False   \n",
       "18                 450.00    ONE_YEAR_FREE               False     True   \n",
       "19                1633.48    ONE_YEAR_FREE               False     True   \n",
       "\n",
       "    No of Pictures   Price trend  ...  Kitchen  cellar Living_space_area  \\\n",
       "0                 6         4.62  ...    False    True             86.00   \n",
       "1                 8         3.47  ...    False   False             89.00   \n",
       "2                 8         2.72  ...    False    True             83.80   \n",
       "3                 9         1.53  ...    False   False             58.15   \n",
       "4                19         2.46  ...    False   False             84.97   \n",
       "5                 5         4.48  ...     True   False             53.43   \n",
       "6                 9         1.01  ...    False    True             62.00   \n",
       "7                 5         1.89  ...    False    True             60.30   \n",
       "8                 5         3.77  ...     True    True             53.00   \n",
       "9                 7         1.92  ...    False    True             60.00   \n",
       "10               11         0.21  ...    False    True             40.20   \n",
       "11                9         0.98  ...    False    True             80.00   \n",
       "12                4         2.77  ...    False   False            100.00   \n",
       "13                3         3.45  ...    False   False            123.44   \n",
       "14               12         3.76  ...    False    True             87.00   \n",
       "15                5         1.67  ...    False    True             36.63   \n",
       "16               17         3.85  ...    False    True             87.00   \n",
       "17               12         1.96  ...    False   False             50.00   \n",
       "18                5         3.12  ...    False    True             65.00   \n",
       "19               35         2.35  ...    False    True            127.95   \n",
       "\n",
       "   Pets_allowed   Lift  Type of Flat  Number of Rooms Garden  \\\n",
       "0           NaN  False  ground_floor                4   True   \n",
       "1            no  False  ground_floor                3  False   \n",
       "2           NaN   True     apartment                3  False   \n",
       "3           NaN  False         other                3  False   \n",
       "4           NaN  False     apartment                3  False   \n",
       "5            no  False     apartment                2  False   \n",
       "6           NaN  False           NaN                2   True   \n",
       "7           NaN  False  ground_floor                3  False   \n",
       "8            no  False   roof_storey                2  False   \n",
       "9    negotiable  False     apartment                2  False   \n",
       "10          NaN  False     apartment                2  False   \n",
       "11   negotiable  False           NaN                3   True   \n",
       "12           no  False  ground_floor                4   True   \n",
       "13          NaN  False     apartment                4  False   \n",
       "14   negotiable   True  ground_floor                3  False   \n",
       "15          NaN  False     apartment                1  False   \n",
       "16   negotiable  False     apartment                3  False   \n",
       "17          NaN  False   roof_storey                2   True   \n",
       "18   negotiable  False     apartment                2  False   \n",
       "19   negotiable   True     apartment                5  False   \n",
       "\n",
       "    Living Space Range Date of posted Ads  \n",
       "0                    4             May-19  \n",
       "1                    4             May-19  \n",
       "2                    4             Oct-19  \n",
       "3                    2             May-19  \n",
       "4                    4             Feb-20  \n",
       "5                    2             Feb-20  \n",
       "6                    3             Feb-20  \n",
       "7                    2             Feb-20  \n",
       "8                    2             Feb-20  \n",
       "9                    2             Oct-19  \n",
       "10                   1             Oct-19  \n",
       "11                   3             May-19  \n",
       "12                   4             May-19  \n",
       "13                   6             Oct-19  \n",
       "14                   4             May-19  \n",
       "15                   1             Sep-18  \n",
       "16                   4             Oct-19  \n",
       "17                   2             Sep-18  \n",
       "18                   3             May-19  \n",
       "19                   6             Oct-19  \n",
       "\n",
       "[20 rows x 24 columns]"
      ]
     },
     "execution_count": 6,
     "metadata": {},
     "output_type": "execute_result"
    }
   ],
   "source": [
    "df.head(20)"
   ]
  },
  {
   "cell_type": "code",
   "execution_count": 7,
   "metadata": {
    "scrolled": true
   },
   "outputs": [
    {
     "data": {
      "text/plain": [
       "(47241, 24)"
      ]
     },
     "execution_count": 7,
     "metadata": {},
     "output_type": "execute_result"
    }
   ],
   "source": [
    "df.shape"
   ]
  },
  {
   "cell_type": "code",
   "execution_count": 8,
   "metadata": {},
   "outputs": [],
   "source": [
    "# Rename the columns in the same way as in Exercise 6.2.\n",
    "\n",
    "df.rename(columns = {'Price trend' : 'Price trend by Renting Market' }, inplace = True)"
   ]
  },
  {
   "cell_type": "markdown",
   "metadata": {},
   "source": [
    "##### Missing values"
   ]
  },
  {
   "cell_type": "code",
   "execution_count": 9,
   "metadata": {},
   "outputs": [
    {
     "data": {
      "text/plain": [
       "State                                0\n",
       "Service_charge                       0\n",
       "Base_rent                            0\n",
       "Total_rent                        6486\n",
       "Calculated_total_rent                0\n",
       "Telekom-Tv Offer                     0\n",
       "Newly_construction                   0\n",
       "Balcony                              0\n",
       "No of Pictures                       0\n",
       "Price trend by Renting Market      296\n",
       "Telekom Upload Speed              5860\n",
       "Constructed    Year               9964\n",
       "Scout ID                             0\n",
       "Parking Space                    31278\n",
       "Kitchen                              0\n",
       "cellar                               0\n",
       "Living_space_area                    0\n",
       "Pets_allowed                     19781\n",
       "Lift                                 0\n",
       "Type of Flat                      6547\n",
       "Number of Rooms                      0\n",
       "Garden                               0\n",
       "Living Space Range                   0\n",
       "Date of posted Ads                   1\n",
       "dtype: int64"
      ]
     },
     "execution_count": 9,
     "metadata": {},
     "output_type": "execute_result"
    }
   ],
   "source": [
    "# Check for missing values\n",
    "\n",
    "df.isnull().sum()\n",
    "\n",
    "# No missing values to handle"
   ]
  },
  {
   "cell_type": "code",
   "execution_count": 10,
   "metadata": {},
   "outputs": [
    {
     "data": {
      "text/html": [
       "<div>\n",
       "<style scoped>\n",
       "    .dataframe tbody tr th:only-of-type {\n",
       "        vertical-align: middle;\n",
       "    }\n",
       "\n",
       "    .dataframe tbody tr th {\n",
       "        vertical-align: top;\n",
       "    }\n",
       "\n",
       "    .dataframe thead th {\n",
       "        text-align: right;\n",
       "    }\n",
       "</style>\n",
       "<table border=\"1\" class=\"dataframe\">\n",
       "  <thead>\n",
       "    <tr style=\"text-align: right;\">\n",
       "      <th></th>\n",
       "      <th>Service_charge</th>\n",
       "      <th>Base_rent</th>\n",
       "      <th>Total_rent</th>\n",
       "      <th>Calculated_total_rent</th>\n",
       "      <th>No of Pictures</th>\n",
       "      <th>Price trend by Renting Market</th>\n",
       "      <th>Telekom Upload Speed</th>\n",
       "      <th>Constructed    Year</th>\n",
       "      <th>Living_space_area</th>\n",
       "    </tr>\n",
       "  </thead>\n",
       "  <tbody>\n",
       "    <tr>\n",
       "      <th>count</th>\n",
       "      <td>47241.000000</td>\n",
       "      <td>4.724100e+04</td>\n",
       "      <td>4.075500e+04</td>\n",
       "      <td>4.724100e+04</td>\n",
       "      <td>47241.000000</td>\n",
       "      <td>46945.000000</td>\n",
       "      <td>41381.000000</td>\n",
       "      <td>37277.000000</td>\n",
       "      <td>47241.000000</td>\n",
       "    </tr>\n",
       "    <tr>\n",
       "      <th>mean</th>\n",
       "      <td>151.186645</td>\n",
       "      <td>6.585406e+02</td>\n",
       "      <td>8.330360e+02</td>\n",
       "      <td>8.097272e+02</td>\n",
       "      <td>9.737685</td>\n",
       "      <td>3.281750</td>\n",
       "      <td>28.673522</td>\n",
       "      <td>1965.556778</td>\n",
       "      <td>72.860088</td>\n",
       "    </tr>\n",
       "    <tr>\n",
       "      <th>std</th>\n",
       "      <td>677.645103</td>\n",
       "      <td>5.698791e+03</td>\n",
       "      <td>6.167176e+03</td>\n",
       "      <td>5.743131e+03</td>\n",
       "      <td>6.360104</td>\n",
       "      <td>1.983928</td>\n",
       "      <td>16.398987</td>\n",
       "      <td>47.814640</td>\n",
       "      <td>31.800683</td>\n",
       "    </tr>\n",
       "    <tr>\n",
       "      <th>min</th>\n",
       "      <td>0.000000</td>\n",
       "      <td>0.000000e+00</td>\n",
       "      <td>0.000000e+00</td>\n",
       "      <td>0.000000e+00</td>\n",
       "      <td>0.000000</td>\n",
       "      <td>-9.170000</td>\n",
       "      <td>1.000000</td>\n",
       "      <td>1111.000000</td>\n",
       "      <td>0.000000</td>\n",
       "    </tr>\n",
       "    <tr>\n",
       "      <th>25%</th>\n",
       "      <td>90.200000</td>\n",
       "      <td>3.289900e+02</td>\n",
       "      <td>4.590000e+02</td>\n",
       "      <td>4.370000e+02</td>\n",
       "      <td>6.000000</td>\n",
       "      <td>1.890000</td>\n",
       "      <td>10.000000</td>\n",
       "      <td>1943.000000</td>\n",
       "      <td>54.000000</td>\n",
       "    </tr>\n",
       "    <tr>\n",
       "      <th>50%</th>\n",
       "      <td>131.160000</td>\n",
       "      <td>4.700000e+02</td>\n",
       "      <td>6.260000e+02</td>\n",
       "      <td>6.050000e+02</td>\n",
       "      <td>9.000000</td>\n",
       "      <td>3.280000</td>\n",
       "      <td>40.000000</td>\n",
       "      <td>1972.000000</td>\n",
       "      <td>66.650000</td>\n",
       "    </tr>\n",
       "    <tr>\n",
       "      <th>75%</th>\n",
       "      <td>185.000000</td>\n",
       "      <td>7.800000e+02</td>\n",
       "      <td>9.650000e+02</td>\n",
       "      <td>9.500000e+02</td>\n",
       "      <td>13.000000</td>\n",
       "      <td>4.510000</td>\n",
       "      <td>40.000000</td>\n",
       "      <td>1996.000000</td>\n",
       "      <td>86.000000</td>\n",
       "    </tr>\n",
       "    <tr>\n",
       "      <th>max</th>\n",
       "      <td>146118.000000</td>\n",
       "      <td>1.234567e+06</td>\n",
       "      <td>1.234567e+06</td>\n",
       "      <td>1.234567e+06</td>\n",
       "      <td>121.000000</td>\n",
       "      <td>12.260000</td>\n",
       "      <td>100.000000</td>\n",
       "      <td>2029.000000</td>\n",
       "      <td>649.000000</td>\n",
       "    </tr>\n",
       "  </tbody>\n",
       "</table>\n",
       "</div>"
      ],
      "text/plain": [
       "       Service_charge     Base_rent    Total_rent  Calculated_total_rent  \\\n",
       "count    47241.000000  4.724100e+04  4.075500e+04           4.724100e+04   \n",
       "mean       151.186645  6.585406e+02  8.330360e+02           8.097272e+02   \n",
       "std        677.645103  5.698791e+03  6.167176e+03           5.743131e+03   \n",
       "min          0.000000  0.000000e+00  0.000000e+00           0.000000e+00   \n",
       "25%         90.200000  3.289900e+02  4.590000e+02           4.370000e+02   \n",
       "50%        131.160000  4.700000e+02  6.260000e+02           6.050000e+02   \n",
       "75%        185.000000  7.800000e+02  9.650000e+02           9.500000e+02   \n",
       "max     146118.000000  1.234567e+06  1.234567e+06           1.234567e+06   \n",
       "\n",
       "       No of Pictures   Price trend by Renting Market  Telekom Upload Speed  \\\n",
       "count     47241.000000                   46945.000000          41381.000000   \n",
       "mean          9.737685                       3.281750             28.673522   \n",
       "std           6.360104                       1.983928             16.398987   \n",
       "min           0.000000                      -9.170000              1.000000   \n",
       "25%           6.000000                       1.890000             10.000000   \n",
       "50%           9.000000                       3.280000             40.000000   \n",
       "75%          13.000000                       4.510000             40.000000   \n",
       "max         121.000000                      12.260000            100.000000   \n",
       "\n",
       "       Constructed    Year  Living_space_area  \n",
       "count         37277.000000       47241.000000  \n",
       "mean           1965.556778          72.860088  \n",
       "std              47.814640          31.800683  \n",
       "min            1111.000000           0.000000  \n",
       "25%            1943.000000          54.000000  \n",
       "50%            1972.000000          66.650000  \n",
       "75%            1996.000000          86.000000  \n",
       "max            2029.000000         649.000000  "
      ]
     },
     "execution_count": 10,
     "metadata": {},
     "output_type": "execute_result"
    }
   ],
   "source": [
    "df.describe()"
   ]
  },
  {
   "cell_type": "code",
   "execution_count": 11,
   "metadata": {},
   "outputs": [],
   "source": [
    "df['Price trend by Renting Market'].fillna('mean', inplace=True)"
   ]
  },
  {
   "cell_type": "code",
   "execution_count": 12,
   "metadata": {},
   "outputs": [
    {
     "data": {
      "text/plain": [
       "State                                0\n",
       "Service_charge                       0\n",
       "Base_rent                            0\n",
       "Total_rent                        6486\n",
       "Calculated_total_rent                0\n",
       "Telekom-Tv Offer                     0\n",
       "Newly_construction                   0\n",
       "Balcony                              0\n",
       "No of Pictures                       0\n",
       "Price trend by Renting Market        0\n",
       "Telekom Upload Speed              5860\n",
       "Constructed    Year               9964\n",
       "Scout ID                             0\n",
       "Parking Space                    31278\n",
       "Kitchen                              0\n",
       "cellar                               0\n",
       "Living_space_area                    0\n",
       "Pets_allowed                     19781\n",
       "Lift                                 0\n",
       "Type of Flat                      6547\n",
       "Number of Rooms                      0\n",
       "Garden                               0\n",
       "Living Space Range                   0\n",
       "Date of posted Ads                   1\n",
       "dtype: int64"
      ]
     },
     "execution_count": 12,
     "metadata": {},
     "output_type": "execute_result"
    }
   ],
   "source": [
    "df.isnull().sum()"
   ]
  },
  {
   "cell_type": "code",
   "execution_count": 13,
   "metadata": {},
   "outputs": [
    {
     "data": {
      "text/html": [
       "<div>\n",
       "<style scoped>\n",
       "    .dataframe tbody tr th:only-of-type {\n",
       "        vertical-align: middle;\n",
       "    }\n",
       "\n",
       "    .dataframe tbody tr th {\n",
       "        vertical-align: top;\n",
       "    }\n",
       "\n",
       "    .dataframe thead th {\n",
       "        text-align: right;\n",
       "    }\n",
       "</style>\n",
       "<table border=\"1\" class=\"dataframe\">\n",
       "  <thead>\n",
       "    <tr style=\"text-align: right;\">\n",
       "      <th></th>\n",
       "      <th>Service_charge</th>\n",
       "      <th>Base_rent</th>\n",
       "      <th>Total_rent</th>\n",
       "      <th>Calculated_total_rent</th>\n",
       "      <th>No of Pictures</th>\n",
       "      <th>Telekom Upload Speed</th>\n",
       "      <th>Constructed    Year</th>\n",
       "      <th>Living_space_area</th>\n",
       "    </tr>\n",
       "  </thead>\n",
       "  <tbody>\n",
       "    <tr>\n",
       "      <th>count</th>\n",
       "      <td>47241.000000</td>\n",
       "      <td>4.724100e+04</td>\n",
       "      <td>4.075500e+04</td>\n",
       "      <td>4.724100e+04</td>\n",
       "      <td>47241.000000</td>\n",
       "      <td>41381.000000</td>\n",
       "      <td>37277.000000</td>\n",
       "      <td>47241.000000</td>\n",
       "    </tr>\n",
       "    <tr>\n",
       "      <th>mean</th>\n",
       "      <td>151.186645</td>\n",
       "      <td>6.585406e+02</td>\n",
       "      <td>8.330360e+02</td>\n",
       "      <td>8.097272e+02</td>\n",
       "      <td>9.737685</td>\n",
       "      <td>28.673522</td>\n",
       "      <td>1965.556778</td>\n",
       "      <td>72.860088</td>\n",
       "    </tr>\n",
       "    <tr>\n",
       "      <th>std</th>\n",
       "      <td>677.645103</td>\n",
       "      <td>5.698791e+03</td>\n",
       "      <td>6.167176e+03</td>\n",
       "      <td>5.743131e+03</td>\n",
       "      <td>6.360104</td>\n",
       "      <td>16.398987</td>\n",
       "      <td>47.814640</td>\n",
       "      <td>31.800683</td>\n",
       "    </tr>\n",
       "    <tr>\n",
       "      <th>min</th>\n",
       "      <td>0.000000</td>\n",
       "      <td>0.000000e+00</td>\n",
       "      <td>0.000000e+00</td>\n",
       "      <td>0.000000e+00</td>\n",
       "      <td>0.000000</td>\n",
       "      <td>1.000000</td>\n",
       "      <td>1111.000000</td>\n",
       "      <td>0.000000</td>\n",
       "    </tr>\n",
       "    <tr>\n",
       "      <th>25%</th>\n",
       "      <td>90.200000</td>\n",
       "      <td>3.289900e+02</td>\n",
       "      <td>4.590000e+02</td>\n",
       "      <td>4.370000e+02</td>\n",
       "      <td>6.000000</td>\n",
       "      <td>10.000000</td>\n",
       "      <td>1943.000000</td>\n",
       "      <td>54.000000</td>\n",
       "    </tr>\n",
       "    <tr>\n",
       "      <th>50%</th>\n",
       "      <td>131.160000</td>\n",
       "      <td>4.700000e+02</td>\n",
       "      <td>6.260000e+02</td>\n",
       "      <td>6.050000e+02</td>\n",
       "      <td>9.000000</td>\n",
       "      <td>40.000000</td>\n",
       "      <td>1972.000000</td>\n",
       "      <td>66.650000</td>\n",
       "    </tr>\n",
       "    <tr>\n",
       "      <th>75%</th>\n",
       "      <td>185.000000</td>\n",
       "      <td>7.800000e+02</td>\n",
       "      <td>9.650000e+02</td>\n",
       "      <td>9.500000e+02</td>\n",
       "      <td>13.000000</td>\n",
       "      <td>40.000000</td>\n",
       "      <td>1996.000000</td>\n",
       "      <td>86.000000</td>\n",
       "    </tr>\n",
       "    <tr>\n",
       "      <th>max</th>\n",
       "      <td>146118.000000</td>\n",
       "      <td>1.234567e+06</td>\n",
       "      <td>1.234567e+06</td>\n",
       "      <td>1.234567e+06</td>\n",
       "      <td>121.000000</td>\n",
       "      <td>100.000000</td>\n",
       "      <td>2029.000000</td>\n",
       "      <td>649.000000</td>\n",
       "    </tr>\n",
       "  </tbody>\n",
       "</table>\n",
       "</div>"
      ],
      "text/plain": [
       "       Service_charge     Base_rent    Total_rent  Calculated_total_rent  \\\n",
       "count    47241.000000  4.724100e+04  4.075500e+04           4.724100e+04   \n",
       "mean       151.186645  6.585406e+02  8.330360e+02           8.097272e+02   \n",
       "std        677.645103  5.698791e+03  6.167176e+03           5.743131e+03   \n",
       "min          0.000000  0.000000e+00  0.000000e+00           0.000000e+00   \n",
       "25%         90.200000  3.289900e+02  4.590000e+02           4.370000e+02   \n",
       "50%        131.160000  4.700000e+02  6.260000e+02           6.050000e+02   \n",
       "75%        185.000000  7.800000e+02  9.650000e+02           9.500000e+02   \n",
       "max     146118.000000  1.234567e+06  1.234567e+06           1.234567e+06   \n",
       "\n",
       "       No of Pictures   Telekom Upload Speed  Constructed    Year  \\\n",
       "count     47241.000000          41381.000000         37277.000000   \n",
       "mean          9.737685             28.673522          1965.556778   \n",
       "std           6.360104             16.398987            47.814640   \n",
       "min           0.000000              1.000000          1111.000000   \n",
       "25%           6.000000             10.000000          1943.000000   \n",
       "50%           9.000000             40.000000          1972.000000   \n",
       "75%          13.000000             40.000000          1996.000000   \n",
       "max         121.000000            100.000000          2029.000000   \n",
       "\n",
       "       Living_space_area  \n",
       "count       47241.000000  \n",
       "mean           72.860088  \n",
       "std            31.800683  \n",
       "min             0.000000  \n",
       "25%            54.000000  \n",
       "50%            66.650000  \n",
       "75%            86.000000  \n",
       "max           649.000000  "
      ]
     },
     "execution_count": 13,
     "metadata": {},
     "output_type": "execute_result"
    }
   ],
   "source": [
    "df.describe()"
   ]
  },
  {
   "cell_type": "markdown",
   "metadata": {},
   "source": [
    "##### Duplicates check"
   ]
  },
  {
   "cell_type": "code",
   "execution_count": 14,
   "metadata": {},
   "outputs": [],
   "source": [
    "dups = df.duplicated()"
   ]
  },
  {
   "cell_type": "code",
   "execution_count": 15,
   "metadata": {},
   "outputs": [
    {
     "data": {
      "text/plain": [
       "(47241,)"
      ]
     },
     "execution_count": 15,
     "metadata": {},
     "output_type": "execute_result"
    }
   ],
   "source": [
    "dups.shape # No dups"
   ]
  },
  {
   "cell_type": "markdown",
   "metadata": {},
   "source": [
    "#### Checking data type"
   ]
  },
  {
   "cell_type": "code",
   "execution_count": 16,
   "metadata": {},
   "outputs": [
    {
     "data": {
      "text/plain": [
       "State                              object\n",
       "Service_charge                    float64\n",
       "Base_rent                         float64\n",
       "Total_rent                        float64\n",
       "Calculated_total_rent             float64\n",
       "Telekom-Tv Offer                   object\n",
       "Newly_construction                   bool\n",
       "Balcony                              bool\n",
       "No of Pictures                      int64\n",
       "Price trend by Renting Market      object\n",
       "Telekom Upload Speed              float64\n",
       "Constructed    Year               float64\n",
       "Scout ID                           object\n",
       "Parking Space                    category\n",
       "Kitchen                              bool\n",
       "cellar                               bool\n",
       "Living_space_area                 float64\n",
       "Pets_allowed                     category\n",
       "Lift                                 bool\n",
       "Type of Flat                     category\n",
       "Number of Rooms                  category\n",
       "Garden                               bool\n",
       "Living Space Range               category\n",
       "Date of posted Ads                 object\n",
       "dtype: object"
      ]
     },
     "execution_count": 16,
     "metadata": {},
     "output_type": "execute_result"
    }
   ],
   "source": [
    "df.dtypes"
   ]
  },
  {
   "cell_type": "markdown",
   "metadata": {},
   "source": [
    "#### Extreme values checks"
   ]
  },
  {
   "cell_type": "code",
   "execution_count": 18,
   "metadata": {
    "scrolled": true
   },
   "outputs": [
    {
     "data": {
      "text/plain": [
       "<AxesSubplot:xlabel='Living_space_area', ylabel='Density'>"
      ]
     },
     "execution_count": 18,
     "metadata": {},
     "output_type": "execute_result"
    },
    {
     "data": {
      "image/png": "[encoded data removed]",
      "text/plain": [
       "<Figure size 640x480 with 1 Axes>"
      ]
     },
     "metadata": {},
     "output_type": "display_data"
    }
   ],
   "source": [
    "sns.distplot(df['Living_space_area'], bins=25) # Shows extreme values\n",
    "\n",
    "# Some of the outliers in the high values may need to be removed, but let's try without doing so first."
   ]
  },
  {
   "cell_type": "code",
   "execution_count": 20,
   "metadata": {},
   "outputs": [
    {
     "data": {
      "text/plain": [
       "72.86008848246249"
      ]
     },
     "execution_count": 20,
     "metadata": {},
     "output_type": "execute_result"
    }
   ],
   "source": [
    "# Check the mean\n",
    "df['Living_space_area'].mean() "
   ]
  },
  {
   "cell_type": "code",
   "execution_count": 22,
   "metadata": {},
   "outputs": [
    {
     "data": {
      "text/plain": [
       "66.65"
      ]
     },
     "execution_count": 22,
     "metadata": {},
     "output_type": "execute_result"
    }
   ],
   "source": [
    " # Check the median\n",
    "df['Living_space_area'].median()"
   ]
  },
  {
   "cell_type": "code",
   "execution_count": 23,
   "metadata": {},
   "outputs": [
    {
     "data": {
      "text/plain": [
       "649.0"
      ]
     },
     "execution_count": 23,
     "metadata": {},
     "output_type": "execute_result"
    }
   ],
   "source": [
    "# Check the max\n",
    "df['Living_space_area'].max() "
   ]
  },
  {
   "cell_type": "markdown",
   "metadata": {},
   "source": [
    "### 3. Data prep for regression analysis "
   ]
  },
  {
   "cell_type": "code",
   "execution_count": 26,
   "metadata": {
    "scrolled": true
   },
   "outputs": [
    {
     "data": {
      "image/png": "[encoded data removed]",
      "text/plain": [
       "<Figure size 640x480 with 1 Axes>"
      ]
     },
     "metadata": {},
     "output_type": "display_data"
    }
   ],
   "source": [
    "# Create a scatterplot using matplotlib for another look at how the chosen variables plot against each other.\n",
    "\n",
    "df.plot(x = 'Calculated_total_rent', y='Living_space_area',style='o') # The style option creates a scatterplot; without it, we only have lines.\n",
    "plt.title('Rent_Rate vs Living_space_area')  \n",
    "plt.xlabel('Living_space_area')  \n",
    "plt.ylabel('Calculated_total_rent')  \n",
    "plt.show()"
   ]
  },
  {
   "cell_type": "code",
   "execution_count": 27,
   "metadata": {},
   "outputs": [],
   "source": [
    "# Reshape the variables into NumPy arrays and put them into separate objects.\n",
    "\n",
    "X = df['Living_space_area'].values.reshape(-1,1)\n",
    "y = df['Calculated_total_rent'].values.reshape(-1,1)"
   ]
  },
  {
   "cell_type": "code",
   "execution_count": 28,
   "metadata": {},
   "outputs": [
    {
     "data": {
      "text/plain": [
       "array([[ 86. ],\n",
       "       [ 89. ],\n",
       "       [ 83.8],\n",
       "       ...,\n",
       "       [ 60. ],\n",
       "       [120. ],\n",
       "       [ 57.8]])"
      ]
     },
     "execution_count": 28,
     "metadata": {},
     "output_type": "execute_result"
    }
   ],
   "source": [
    "X"
   ]
  },
  {
   "cell_type": "code",
   "execution_count": 29,
   "metadata": {},
   "outputs": [
    {
     "data": {
      "text/plain": [
       "array([[ 840.],\n",
       "       [ 934.],\n",
       "       [1220.],\n",
       "       ...,\n",
       "       [ 432.],\n",
       "       [1150.],\n",
       "       [ 447.]])"
      ]
     },
     "execution_count": 29,
     "metadata": {},
     "output_type": "execute_result"
    }
   ],
   "source": [
    "y"
   ]
  },
  {
   "cell_type": "code",
   "execution_count": 30,
   "metadata": {
    "scrolled": true
   },
   "outputs": [],
   "source": [
    "# Split data into a training set and a test set.\n",
    "\n",
    "X_train, X_test, y_train, y_test = train_test_split(X, y, test_size=0.3, random_state=0)"
   ]
  },
  {
   "cell_type": "markdown",
   "metadata": {},
   "source": [
    "### 4. Regression analysis"
   ]
  },
  {
   "cell_type": "markdown",
   "metadata": {},
   "source": [
    "### Hypothesis1: If the Living space area are more, the rent price is also more."
   ]
  },
  {
   "cell_type": "code",
   "execution_count": 31,
   "metadata": {},
   "outputs": [],
   "source": [
    "# Create a regression object.\n",
    "\n",
    "regression = LinearRegression()  # This is the regression object, which will be fit onto the training set."
   ]
  },
  {
   "cell_type": "code",
   "execution_count": 32,
   "metadata": {},
   "outputs": [
    {
     "data": {
      "text/plain": [
       "LinearRegression()"
      ]
     },
     "execution_count": 32,
     "metadata": {},
     "output_type": "execute_result"
    }
   ],
   "source": [
    "# Fit the regression object onto the training set.\n",
    "\n",
    "regression.fit(X_train, y_train)"
   ]
  },
  {
   "cell_type": "code",
   "execution_count": 33,
   "metadata": {},
   "outputs": [],
   "source": [
    "# Predict the values of y using X.\n",
    "\n",
    "y_predicted = regression.predict(X_test)"
   ]
  },
  {
   "cell_type": "code",
   "execution_count": 34,
   "metadata": {},
   "outputs": [
    {
     "data": {
      "image/png": "[encoded data removed]",
      "text/plain": [
       "<Figure size 640x480 with 1 Axes>"
      ]
     },
     "metadata": {},
     "output_type": "display_data"
    }
   ],
   "source": [
    "# Create a plot that shows the regression line from the model on the test set.\n",
    "\n",
    "plot_test = plt\n",
    "plot_test.scatter(X_test, y_test, color='gray', s = 15)\n",
    "plot_test.plot(X_test, y_predicted, color='red', linewidth =3)\n",
    "plot_test.title('Calculated_total_rent vs Living_space_area (Test set)')\n",
    "plot_test.xlabel('Living_space_area')\n",
    "plot_test.ylabel('Calculated_total_rent')\n",
    "plot_test.show()"
   ]
  },
  {
   "cell_type": "code",
   "execution_count": 35,
   "metadata": {},
   "outputs": [],
   "source": [
    "# Create objects that contain the model summary statistics.\n",
    "\n",
    "rmse = mean_squared_error(y_test, y_predicted) # This is the mean squared error\n",
    "r2 = r2_score(y_test, y_predicted) # This is the R2 score. "
   ]
  },
  {
   "cell_type": "code",
   "execution_count": 36,
   "metadata": {},
   "outputs": [
    {
     "name": "stdout",
     "output_type": "stream",
     "text": [
      "Slope: [[13.16622539]]\n",
      "Mean squared error:  141453.30844013792\n",
      "R2 score:  0.5440948240653467\n"
     ]
    }
   ],
   "source": [
    "# Print the model summary statistics. This is where you evaluate the performance of the model.\n",
    "\n",
    "print('Slope:' ,regression.coef_)\n",
    "print('Mean squared error: ', rmse)\n",
    "print('R2 score: ', r2)"
   ]
  },
  {
   "cell_type": "code",
   "execution_count": 37,
   "metadata": {},
   "outputs": [
    {
     "data": {
      "text/plain": [
       "array([[ 775.57216372],\n",
       "       [ 416.79252177],\n",
       "       [ 644.56822106],\n",
       "       ...,\n",
       "       [ 508.95609952],\n",
       "       [1009.27266443],\n",
       "       [ 844.56318477]])"
      ]
     },
     "execution_count": 37,
     "metadata": {},
     "output_type": "execute_result"
    }
   ],
   "source": [
    "y_predicted"
   ]
  },
  {
   "cell_type": "code",
   "execution_count": 38,
   "metadata": {
    "scrolled": true
   },
   "outputs": [
    {
     "data": {
      "text/html": [
       "<div>\n",
       "<style scoped>\n",
       "    .dataframe tbody tr th:only-of-type {\n",
       "        vertical-align: middle;\n",
       "    }\n",
       "\n",
       "    .dataframe tbody tr th {\n",
       "        vertical-align: top;\n",
       "    }\n",
       "\n",
       "    .dataframe thead th {\n",
       "        text-align: right;\n",
       "    }\n",
       "</style>\n",
       "<table border=\"1\" class=\"dataframe\">\n",
       "  <thead>\n",
       "    <tr style=\"text-align: right;\">\n",
       "      <th></th>\n",
       "      <th>Actual</th>\n",
       "      <th>Predicted</th>\n",
       "    </tr>\n",
       "  </thead>\n",
       "  <tbody>\n",
       "    <tr>\n",
       "      <th>0</th>\n",
       "      <td>595.00</td>\n",
       "      <td>775.572164</td>\n",
       "    </tr>\n",
       "    <tr>\n",
       "      <th>1</th>\n",
       "      <td>460.00</td>\n",
       "      <td>416.792522</td>\n",
       "    </tr>\n",
       "    <tr>\n",
       "      <th>2</th>\n",
       "      <td>377.00</td>\n",
       "      <td>644.568221</td>\n",
       "    </tr>\n",
       "    <tr>\n",
       "      <th>3</th>\n",
       "      <td>610.00</td>\n",
       "      <td>850.487986</td>\n",
       "    </tr>\n",
       "    <tr>\n",
       "      <th>4</th>\n",
       "      <td>514.17</td>\n",
       "      <td>710.004361</td>\n",
       "    </tr>\n",
       "    <tr>\n",
       "      <th>5</th>\n",
       "      <td>1187.44</td>\n",
       "      <td>1614.919032</td>\n",
       "    </tr>\n",
       "    <tr>\n",
       "      <th>6</th>\n",
       "      <td>708.00</td>\n",
       "      <td>917.109087</td>\n",
       "    </tr>\n",
       "    <tr>\n",
       "      <th>7</th>\n",
       "      <td>536.10</td>\n",
       "      <td>711.057659</td>\n",
       "    </tr>\n",
       "    <tr>\n",
       "      <th>8</th>\n",
       "      <td>475.00</td>\n",
       "      <td>602.041313</td>\n",
       "    </tr>\n",
       "    <tr>\n",
       "      <th>9</th>\n",
       "      <td>720.00</td>\n",
       "      <td>1127.768693</td>\n",
       "    </tr>\n",
       "    <tr>\n",
       "      <th>10</th>\n",
       "      <td>780.00</td>\n",
       "      <td>443.124973</td>\n",
       "    </tr>\n",
       "    <tr>\n",
       "      <th>11</th>\n",
       "      <td>2600.00</td>\n",
       "      <td>1667.583934</td>\n",
       "    </tr>\n",
       "    <tr>\n",
       "      <th>12</th>\n",
       "      <td>3225.00</td>\n",
       "      <td>2655.050838</td>\n",
       "    </tr>\n",
       "    <tr>\n",
       "      <th>13</th>\n",
       "      <td>640.00</td>\n",
       "      <td>969.773988</td>\n",
       "    </tr>\n",
       "    <tr>\n",
       "      <th>14</th>\n",
       "      <td>730.00</td>\n",
       "      <td>1085.373447</td>\n",
       "    </tr>\n",
       "    <tr>\n",
       "      <th>15</th>\n",
       "      <td>2011.00</td>\n",
       "      <td>1206.766045</td>\n",
       "    </tr>\n",
       "    <tr>\n",
       "      <th>16</th>\n",
       "      <td>318.00</td>\n",
       "      <td>759.114382</td>\n",
       "    </tr>\n",
       "    <tr>\n",
       "      <th>17</th>\n",
       "      <td>515.00</td>\n",
       "      <td>785.446833</td>\n",
       "    </tr>\n",
       "    <tr>\n",
       "      <th>18</th>\n",
       "      <td>510.00</td>\n",
       "      <td>455.501224</td>\n",
       "    </tr>\n",
       "    <tr>\n",
       "      <th>19</th>\n",
       "      <td>718.00</td>\n",
       "      <td>515.539212</td>\n",
       "    </tr>\n",
       "    <tr>\n",
       "      <th>20</th>\n",
       "      <td>250.00</td>\n",
       "      <td>258.797817</td>\n",
       "    </tr>\n",
       "    <tr>\n",
       "      <th>21</th>\n",
       "      <td>499.00</td>\n",
       "      <td>416.792522</td>\n",
       "    </tr>\n",
       "    <tr>\n",
       "      <th>22</th>\n",
       "      <td>780.00</td>\n",
       "      <td>1259.430947</td>\n",
       "    </tr>\n",
       "    <tr>\n",
       "      <th>23</th>\n",
       "      <td>800.00</td>\n",
       "      <td>298.296493</td>\n",
       "    </tr>\n",
       "    <tr>\n",
       "      <th>24</th>\n",
       "      <td>961.48</td>\n",
       "      <td>1004.269499</td>\n",
       "    </tr>\n",
       "    <tr>\n",
       "      <th>25</th>\n",
       "      <td>1790.00</td>\n",
       "      <td>903.942861</td>\n",
       "    </tr>\n",
       "    <tr>\n",
       "      <th>26</th>\n",
       "      <td>423.85</td>\n",
       "      <td>661.026003</td>\n",
       "    </tr>\n",
       "    <tr>\n",
       "      <th>27</th>\n",
       "      <td>456.00</td>\n",
       "      <td>693.283255</td>\n",
       "    </tr>\n",
       "    <tr>\n",
       "      <th>28</th>\n",
       "      <td>1090.00</td>\n",
       "      <td>864.444185</td>\n",
       "    </tr>\n",
       "    <tr>\n",
       "      <th>29</th>\n",
       "      <td>1049.00</td>\n",
       "      <td>1246.264721</td>\n",
       "    </tr>\n",
       "  </tbody>\n",
       "</table>\n",
       "</div>"
      ],
      "text/plain": [
       "     Actual    Predicted\n",
       "0    595.00   775.572164\n",
       "1    460.00   416.792522\n",
       "2    377.00   644.568221\n",
       "3    610.00   850.487986\n",
       "4    514.17   710.004361\n",
       "5   1187.44  1614.919032\n",
       "6    708.00   917.109087\n",
       "7    536.10   711.057659\n",
       "8    475.00   602.041313\n",
       "9    720.00  1127.768693\n",
       "10   780.00   443.124973\n",
       "11  2600.00  1667.583934\n",
       "12  3225.00  2655.050838\n",
       "13   640.00   969.773988\n",
       "14   730.00  1085.373447\n",
       "15  2011.00  1206.766045\n",
       "16   318.00   759.114382\n",
       "17   515.00   785.446833\n",
       "18   510.00   455.501224\n",
       "19   718.00   515.539212\n",
       "20   250.00   258.797817\n",
       "21   499.00   416.792522\n",
       "22   780.00  1259.430947\n",
       "23   800.00   298.296493\n",
       "24   961.48  1004.269499\n",
       "25  1790.00   903.942861\n",
       "26   423.85   661.026003\n",
       "27   456.00   693.283255\n",
       "28  1090.00   864.444185\n",
       "29  1049.00  1246.264721"
      ]
     },
     "execution_count": 38,
     "metadata": {},
     "output_type": "execute_result"
    }
   ],
   "source": [
    "# Create a dataframe comparing the actual and predicted values of y.\n",
    "\n",
    "data = pd.DataFrame({'Actual': y_test.flatten(), 'Predicted': y_predicted.flatten()})\n",
    "data.head(30)"
   ]
  },
  {
   "cell_type": "markdown",
   "metadata": {},
   "source": [
    "##### Compare how the regression fits the training set"
   ]
  },
  {
   "cell_type": "code",
   "execution_count": 39,
   "metadata": {},
   "outputs": [],
   "source": [
    "# Predict.\n",
    "\n",
    "y_predicted_train = regression.predict(X_train) # This is predicting X_train!"
   ]
  },
  {
   "cell_type": "code",
   "execution_count": 40,
   "metadata": {},
   "outputs": [],
   "source": [
    "rmse = mean_squared_error(y_train, y_predicted_train)\n",
    "r2 = r2_score(y_train, y_predicted_train)"
   ]
  },
  {
   "cell_type": "code",
   "execution_count": 41,
   "metadata": {},
   "outputs": [
    {
     "name": "stdout",
     "output_type": "stream",
     "text": [
      "Slope: [[13.16622539]]\n",
      "Mean squared error:  46810944.18961983\n",
      "R2 score:  0.0037218633586797445\n"
     ]
    }
   ],
   "source": [
    "print('Slope:' ,regression.coef_)\n",
    "print('Mean squared error: ', rmse)\n",
    "print('R2 score: ', r2)"
   ]
  },
  {
   "cell_type": "code",
   "execution_count": 42,
   "metadata": {
    "scrolled": true
   },
   "outputs": [
    {
     "data": {
      "image/png": "[encoded data removed]",
      "text/plain": [
       "<Figure size 640x480 with 1 Axes>"
      ]
     },
     "metadata": {},
     "output_type": "display_data"
    }
   ],
   "source": [
    "# Visualizing the training set results.\n",
    "\n",
    "plot_test = plt\n",
    "plot_test.scatter(X_train, y_train, color='green', s = 15)\n",
    "plot_test.plot(X_train, y_predicted_train, color='red', linewidth =3)\n",
    "plot_test.title('Calculated_total_rent vs Living_space_area (Train set)')\n",
    "plot_test.xlabel('Living_space_area')\n",
    "plot_test.ylabel('Calculated_total_rent')\n",
    "plot_test.show()"
   ]
  },
  {
   "cell_type": "markdown",
   "metadata": {},
   "source": [
    "#### The summary statistics of the model confirm that the model is inaccurate. Which can also be seen by the variance in the actual vs prdicted values. An R2 score of 0.0037 indicates a very poor fit and the large MSE  difference also confirms that data point is not around the regression line."
   ]
  }
 ],
 "metadata": {
  "kernelspec": {
   "display_name": "Python 3 (ipykernel)",
   "language": "python",
   "name": "python3"
  },
  "language_info": {
   "codemirror_mode": {
    "name": "ipython",
    "version": 3
   },
   "file_extension": ".py",
   "mimetype": "text/x-python",
   "name": "python",
   "nbconvert_exporter": "python",
   "pygments_lexer": "ipython3",
   "version": "3.9.13"
  }
 },
 "nbformat": 4,
 "nbformat_minor": 4
}
